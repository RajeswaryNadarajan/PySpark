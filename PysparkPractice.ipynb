{
  "nbformat": 4,
  "nbformat_minor": 0,
  "metadata": {
    "colab": {
      "provenance": [],
      "authorship_tag": "ABX9TyMA0bGfXQQrnAVnUjuU1eoy",
      "include_colab_link": true
    },
    "kernelspec": {
      "name": "python3",
      "display_name": "Python 3"
    },
    "language_info": {
      "name": "python"
    }
  },
  "cells": [
    {
      "cell_type": "markdown",
      "metadata": {
        "id": "view-in-github",
        "colab_type": "text"
      },
      "source": [
        "<a href=\"https://colab.research.google.com/github/RajeswaryNadarajan/PySpark/blob/main/PysparkPractice.ipynb\" target=\"_parent\"><img src=\"https://colab.research.google.com/assets/colab-badge.svg\" alt=\"Open In Colab\"/></a>"
      ]
    },
    {
      "cell_type": "code",
      "source": [
        "#TOP 3 Customers\n",
        "\n",
        "from pyspark.sql import SparkSession\n",
        "from pyspark.sql.functions import sum\n",
        "\n",
        "spark= SparkSession.builder.appName(\"Top_three_customers\").getOrCreate()\n",
        "\n",
        "data=[(\"C001\",500),(\"C002\",400),(\"C001\",800),(\"C003\",300),(\"C004\",200)]\n",
        "columns =\"Customer_id\",\"Amount\"\n",
        "df=spark.createDataFrame(data,columns)\n",
        "\n",
        "df.show()\n",
        "\n",
        "results = (df.groupBy(\"Customer_id\")\n",
        " .agg(sum(\"Amount\").alias(\"Total_spent\"))\n",
        " .orderBy(\"Total_spent\",ascending=False)\n",
        "  .limit(3))\n",
        "\n",
        "results.show()"
      ],
      "metadata": {
        "colab": {
          "base_uri": "https://localhost:8080/"
        },
        "id": "8UcQO3FbvCNL",
        "outputId": "81a2a0ec-b566-4c20-f9af-e8a3b28b4799"
      },
      "execution_count": 15,
      "outputs": [
        {
          "output_type": "stream",
          "name": "stdout",
          "text": [
            "+-----------+------+\n",
            "|Customer_id|Amount|\n",
            "+-----------+------+\n",
            "|       C001|   500|\n",
            "|       C002|   400|\n",
            "|       C001|   800|\n",
            "|       C003|   300|\n",
            "|       C004|   200|\n",
            "+-----------+------+\n",
            "\n",
            "+-----------+-----------+\n",
            "|Customer_id|Total_spent|\n",
            "+-----------+-----------+\n",
            "|       C001|       1300|\n",
            "|       C002|        400|\n",
            "|       C003|        300|\n",
            "+-----------+-----------+\n",
            "\n"
          ]
        }
      ]
    }
  ]
}